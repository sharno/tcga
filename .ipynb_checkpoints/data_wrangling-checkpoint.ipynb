{
 "cells": [
  {
   "cell_type": "code",
   "execution_count": 1,
   "metadata": {
    "collapsed": false
   },
   "outputs": [],
   "source": [
    "import pandas as pd\n",
    "from os import listdir"
   ]
  },
  {
   "cell_type": "code",
   "execution_count": 2,
   "metadata": {
    "collapsed": false
   },
   "outputs": [
    {
     "name": "stdout",
     "output_type": "stream",
     "text": [
      "Total number of cases:  1122\n",
      "\n",
      "GBM number of cases:  606\n",
      "LGG number of cases:  516\n",
      "\n",
      "GBM GCIMP+ number of cases:  33\n",
      "GBM GCIMP- number of cases:  383\n",
      "LGG GCIMP+ number of cases:  421\n",
      "LGG GCIMP- number of cases:  95\n"
     ]
    }
   ],
   "source": [
    "df = pd.read_excel(\"mmc2.xlsx\", header=1)\n",
    "\n",
    "gcimp_p = [\"LGm1\", \"LGm2\", \"LGm3\"]\n",
    "gcimp_n = [\"LGm4\", \"LGm5\", \"LGm6\"]\n",
    "\n",
    "gbm = df[df[\"Study\"]==\"Glioblastoma multiforme\"]\n",
    "lgg = df[df[\"Study\"]==\"Brain Lower Grade Glioma\"]\n",
    "\n",
    "gbm_gcimp_p = gbm[gbm[\"Pan-Glioma DNA Methylation Cluster\"].isin(gcimp_p)]\n",
    "gbm_gcimp_n = gbm[gbm[\"Pan-Glioma DNA Methylation Cluster\"].isin(gcimp_n)]\n",
    "\n",
    "lgg_gcimp_p = lgg[lgg[\"Pan-Glioma DNA Methylation Cluster\"].isin(gcimp_p)]\n",
    "lgg_gcimp_n = lgg[lgg[\"Pan-Glioma DNA Methylation Cluster\"].isin(gcimp_n)]\n",
    "\n",
    "print \"Total number of cases: \", len(df)\n",
    "print\n",
    "print \"GBM number of cases: \", len(gbm)\n",
    "print \"LGG number of cases: \", len(lgg)\n",
    "print\n",
    "print \"GBM GCIMP+ number of cases: \", len(gbm_gcimp_p)\n",
    "print \"GBM GCIMP- number of cases: \", len(gbm_gcimp_n)\n",
    "print \"LGG GCIMP+ number of cases: \", len(lgg_gcimp_p)\n",
    "print \"LGG GCIMP- number of cases: \", len(lgg_gcimp_n)\n",
    "# print \"GBM data description: \\n\", gbm.describe()\n",
    "# print \"LGG data description: \\n\", lgg.describe()"
   ]
  },
  {
   "cell_type": "code",
   "execution_count": 27,
   "metadata": {
    "collapsed": false
   },
   "outputs": [
    {
     "name": "stdout",
     "output_type": "stream",
     "text": [
      "             ELMO2 CREB3L1 RPS11 PNMA1 MMP2 C10orf90 ZHX3 ERCC5 GPR98 RXFP3  \\\n",
      "TCGA-DB-5281   NaN     NaN   NaN   NaN  NaN      NaN  NaN   NaN   NaN   NaN   \n",
      "\n",
      "             ...  SLC2A11 GRIP2 GPLD1 RAB8A RXFP2 PIK3IP1 SLC39A6 SNRPD2 AQP7  \\\n",
      "TCGA-DB-5281 ...      NaN   NaN   NaN   NaN   NaN     NaN     NaN    NaN  NaN   \n",
      "\n",
      "             CTSC  \n",
      "TCGA-DB-5281  NaN  \n",
      "\n",
      "[1 rows x 17814 columns]\n"
     ]
    }
   ],
   "source": [
    "lgg_folder = \"lgg/Expression-Genes/UNC__AgilentG4502A_07_3/Level_3/\"\n",
    "cases = df[\"Case\"].tolist()\n",
    "test = df.copy()\n",
    "\n",
    "genes = pd.read_csv(lgg_folder+listdir(lgg_folder)[0], header=1, delimiter=\"\\t\")\n",
    "genes = genes[genes.columns[0]].tolist()\n",
    "genes_df = pd.DataFrame(columns=genes)\n",
    "\n",
    "test = test.set_index(\"Case\")\n",
    "# test = pd.concat([test, genes],axis=1)\n",
    "for filename in listdir(lgg_folder)[:1]:\n",
    "    with open(lgg_folder+filename, \"r\") as f:\n",
    "        s = f.readline().strip()\n",
    "        ind = s.index(\"TCGA\")\n",
    "        case = s[ind:ind+12]\n",
    "        if case in cases:\n",
    "            case_df = pd.read_csv(lgg_folder+filename, header=1, delimiter=\"\\t\")\n",
    "#             if all(c in genes for c in case_df[case_df.columns[0]]):\n",
    "            genes_df.loc[case] = case_df[case_df.columns[1]]\n",
    "#             else:\n",
    "#                 print case, \" has extra genes: \", [c for c in case_df[case_df.columns[0]] if c not in genes]\n",
    "genes_df"
   ]
  },
  {
   "cell_type": "code",
   "execution_count": 25,
   "metadata": {
    "collapsed": false
   },
   "outputs": [
    {
     "data": {
      "text/html": [
       "<div>\n",
       "<table border=\"1\" class=\"dataframe\">\n",
       "  <thead>\n",
       "    <tr style=\"text-align: right;\">\n",
       "      <th></th>\n",
       "      <th>x</th>\n",
       "      <th>y</th>\n",
       "    </tr>\n",
       "  </thead>\n",
       "  <tbody>\n",
       "    <tr>\n",
       "      <th>a</th>\n",
       "      <td>1.0</td>\n",
       "      <td>2.0</td>\n",
       "    </tr>\n",
       "  </tbody>\n",
       "</table>\n",
       "</div>"
      ],
      "text/plain": [
       "     x    y\n",
       "a  1.0  2.0"
      ]
     },
     "execution_count": 25,
     "metadata": {},
     "output_type": "execute_result"
    }
   ],
   "source": [
    "t = pd.DataFrame(columns=[\"x\", \"y\"])\n",
    "# t.add = pd.Series([\"x\", \"y\"])\n",
    "t.loc[\"a\"] = [1,2]\n",
    "t"
   ]
  }
 ],
 "metadata": {
  "kernelspec": {
   "display_name": "Python 2",
   "language": "python",
   "name": "python2"
  },
  "language_info": {
   "codemirror_mode": {
    "name": "ipython",
    "version": 2
   },
   "file_extension": ".py",
   "mimetype": "text/x-python",
   "name": "python",
   "nbconvert_exporter": "python",
   "pygments_lexer": "ipython2",
   "version": "2.7.10"
  }
 },
 "nbformat": 4,
 "nbformat_minor": 0
}
